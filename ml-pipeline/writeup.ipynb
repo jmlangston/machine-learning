{
 "cells": [
  {
   "cell_type": "markdown",
   "metadata": {},
   "source": [
    "# Machine Learning Pipeline Applied to Credit Data\n",
    "\n",
    "The module `pipeline_library` contains functions that allow us to apply the machine learning pipeline. The pipeline involves the following steps:\n",
    "\n",
    "1. Read/load data\n",
    "2. Explore the data\n",
    "3. Pre-process and clean the data\n",
    "4. Generate features/predictors for the ML model\n",
    "5. Build a machine learning classifier \n",
    "6. Evaluate the classifier\n",
    "\n",
    "We will utilize `pipeline_library` to analyze credit data and predict inividuals who will\n",
    "experience financial distress in the next two years. The credit data is a modified version of data from https://www.kaggle.com/c/GiveMeSomeCredit."
   ]
  },
  {
   "cell_type": "code",
   "execution_count": 1,
   "metadata": {},
   "outputs": [
    {
     "name": "stderr",
     "output_type": "stream",
     "text": [
      "/usr/local/lib/python3.5/dist-packages/sklearn/cross_validation.py:41: DeprecationWarning: This module was deprecated in version 0.18 in favor of the model_selection module into which all the refactored classes and functions are moved. Also note that the interface of the new CV iterators are different from that of this module. This module will be removed in 0.20.\n",
      "  \"This module will be removed in 0.20.\", DeprecationWarning)\n"
     ]
    }
   ],
   "source": [
    "import pipeline_library as pl"
   ]
  },
  {
   "cell_type": "markdown",
   "metadata": {},
   "source": [
    "### 1. Read the data"
   ]
  },
  {
   "cell_type": "code",
   "execution_count": 2,
   "metadata": {},
   "outputs": [],
   "source": [
    "df = pl.load_csv_data(\"data/credit-data.csv\")"
   ]
  },
  {
   "cell_type": "markdown",
   "metadata": {},
   "source": [
    "### 2. Explore the data\n",
    "Run `show_data_summary()` to see a the first five rows of the dataframe, column names and types, and summary statistics of each column/variable."
   ]
  },
  {
   "cell_type": "code",
   "execution_count": 3,
   "metadata": {},
   "outputs": [
    {
     "name": "stdout",
     "output_type": "stream",
     "text": [
      "   PersonID  SeriousDlqin2yrs  RevolvingUtilizationOfUnsecuredLines  age  \\\n",
      "0     98976                 0                              1.000000   55   \n",
      "1     98991                 0                              0.547745   71   \n",
      "2     99012                 0                              0.044280   51   \n",
      "3     99023                 0                              0.914249   55   \n",
      "4     99027                 0                              0.026599   45   \n",
      "\n",
      "   zipcode  NumberOfTime30-59DaysPastDueNotWorse   DebtRatio  MonthlyIncome  \\\n",
      "0    60601                                     0  505.000000            0.0   \n",
      "1    60601                                     0    0.459565        15666.0   \n",
      "2    60601                                     0    0.014520         4200.0   \n",
      "3    60601                                     4    0.794875         9052.0   \n",
      "4    60601                                     0    0.049966        10406.0   \n",
      "\n",
      "   NumberOfOpenCreditLinesAndLoans  NumberOfTimes90DaysLate  \\\n",
      "0                                2                        0   \n",
      "1                                7                        0   \n",
      "2                                5                        0   \n",
      "3                               12                        0   \n",
      "4                                4                        0   \n",
      "\n",
      "   NumberRealEstateLoansOrLines  NumberOfTime60-89DaysPastDueNotWorse  \\\n",
      "0                             0                                     0   \n",
      "1                             2                                     0   \n",
      "2                             0                                     0   \n",
      "3                             3                                     0   \n",
      "4                             0                                     0   \n",
      "\n",
      "   NumberOfDependents  \n",
      "0                 0.0  \n",
      "1                 0.0  \n",
      "2                 0.0  \n",
      "3                 0.0  \n",
      "4                 2.0  \n",
      "\n",
      "PersonID                                  int64\n",
      "SeriousDlqin2yrs                          int64\n",
      "RevolvingUtilizationOfUnsecuredLines    float64\n",
      "age                                       int64\n",
      "zipcode                                   int64\n",
      "NumberOfTime30-59DaysPastDueNotWorse      int64\n",
      "DebtRatio                               float64\n",
      "MonthlyIncome                           float64\n",
      "NumberOfOpenCreditLinesAndLoans           int64\n",
      "NumberOfTimes90DaysLate                   int64\n",
      "NumberRealEstateLoansOrLines              int64\n",
      "NumberOfTime60-89DaysPastDueNotWorse      int64\n",
      "NumberOfDependents                      float64\n",
      "dtype: object\n",
      "\n",
      "            PersonID  SeriousDlqin2yrs  RevolvingUtilizationOfUnsecuredLines  \\\n",
      "count   41016.000000      41016.000000                           41016.00000   \n",
      "mean   115800.154598          0.161400                               6.37587   \n",
      "std     28112.723511          0.367904                             221.61895   \n",
      "min        22.000000          0.000000                               0.00000   \n",
      "25%    106539.750000          0.000000                               0.03431   \n",
      "50%    119901.500000          0.000000                               0.18973   \n",
      "75%    134698.250000          0.000000                               0.66716   \n",
      "max    149999.000000          1.000000                           22000.00000   \n",
      "\n",
      "                age       zipcode  NumberOfTime30-59DaysPastDueNotWorse  \\\n",
      "count  41016.000000  41016.000000                          41016.000000   \n",
      "mean      51.683489  60623.824166                              0.589233   \n",
      "std       14.746880     11.984357                              5.205628   \n",
      "min       21.000000  60601.000000                              0.000000   \n",
      "25%       41.000000  60618.000000                              0.000000   \n",
      "50%       51.000000  60625.000000                              0.000000   \n",
      "75%       62.000000  60629.000000                              0.000000   \n",
      "max      109.000000  60644.000000                             98.000000   \n",
      "\n",
      "           DebtRatio  MonthlyIncome  NumberOfOpenCreditLinesAndLoans  \\\n",
      "count   41016.000000   3.304200e+04                     41016.000000   \n",
      "mean      331.458137   6.578996e+03                         8.403477   \n",
      "std      1296.109695   1.344683e+04                         5.207324   \n",
      "min         0.000000   0.000000e+00                         0.000000   \n",
      "25%         0.176375   3.333000e+03                         5.000000   \n",
      "50%         0.369736   5.250000e+03                         8.000000   \n",
      "75%         0.866471   8.055750e+03                        11.000000   \n",
      "max    106885.000000   1.794060e+06                        56.000000   \n",
      "\n",
      "       NumberOfTimes90DaysLate  NumberRealEstateLoansOrLines  \\\n",
      "count             41016.000000                  41016.000000   \n",
      "mean                  0.419592                      1.008801   \n",
      "std                   5.190382                      1.153826   \n",
      "min                   0.000000                      0.000000   \n",
      "25%                   0.000000                      0.000000   \n",
      "50%                   0.000000                      1.000000   \n",
      "75%                   0.000000                      2.000000   \n",
      "max                  98.000000                     32.000000   \n",
      "\n",
      "       NumberOfTime60-89DaysPastDueNotWorse  NumberOfDependents  \n",
      "count                          41016.000000        39979.000000  \n",
      "mean                               0.371587            0.773231  \n",
      "std                                5.169641            1.121269  \n",
      "min                                0.000000            0.000000  \n",
      "25%                                0.000000            0.000000  \n",
      "50%                                0.000000            0.000000  \n",
      "75%                                0.000000            1.000000  \n",
      "max                               98.000000           13.000000  \n"
     ]
    }
   ],
   "source": [
    "pl.show_data_summary(df)"
   ]
  },
  {
   "cell_type": "markdown",
   "metadata": {},
   "source": [
    "The label, or outcome variable, that we will be using is `SeriousDlqin2yrs`. We can take a look at this label more closely with `show_label_detail()`."
   ]
  },
  {
   "cell_type": "code",
   "execution_count": 4,
   "metadata": {},
   "outputs": [
    {
     "name": "stdout",
     "output_type": "stream",
     "text": [
      "Label value counts\n",
      "0    34396\n",
      "1     6620\n",
      "Name: SeriousDlqin2yrs, dtype: int64\n",
      "\n",
      "Proportion of 'yes' observations\n",
      "0.1614004291008387\n"
     ]
    }
   ],
   "source": [
    "label = \"SeriousDlqin2yrs\"\n",
    "pl.show_label_detail(df, label)"
   ]
  },
  {
   "cell_type": "markdown",
   "metadata": {},
   "source": [
    "We can visualize a variable we're interested in with a simple histogram. We'll run `show_histogram()` to see a plot of the column `NumberOfDependents`."
   ]
  },
  {
   "cell_type": "code",
   "execution_count": 5,
   "metadata": {},
   "outputs": [
    {
     "name": "stdout",
     "output_type": "stream",
     "text": [
      "AxesSubplot(0.125,0.11;0.775x0.77)\n"
     ]
    }
   ],
   "source": [
    "pl.show_histogram(df, \"NumberOfDependents\")"
   ]
  },
  {
   "cell_type": "markdown",
   "metadata": {},
   "source": [
    "We can see if there is correlation between two variables with `show_correlation()`. Running it without specifying columns will print a dataframe showing the correlation between every combination of columns, or we can pass it the names of two columns we're interested in to see just that correlation. Let's see if there's a correlation between the label and a couple of different variables (features)."
   ]
  },
  {
   "cell_type": "code",
   "execution_count": 6,
   "metadata": {},
   "outputs": [
    {
     "data": {
      "text/plain": [
       "-0.03989766280591296"
      ]
     },
     "execution_count": 6,
     "metadata": {},
     "output_type": "execute_result"
    }
   ],
   "source": [
    "pl.show_correlation(df, cols=[label, \"NumberOfOpenCreditLinesAndLoans\"])"
   ]
  },
  {
   "cell_type": "code",
   "execution_count": 7,
   "metadata": {},
   "outputs": [
    {
     "data": {
      "text/plain": [
       "-0.1737278443559057"
      ]
     },
     "execution_count": 7,
     "metadata": {},
     "output_type": "execute_result"
    }
   ],
   "source": [
    "pl.show_correlation(df, cols=[label, \"age\"])"
   ]
  },
  {
   "cell_type": "markdown",
   "metadata": {},
   "source": [
    "### 3. Pre-process the data\n",
    "Find columns with null values and fill those null values with the mean value of the column."
   ]
  },
  {
   "cell_type": "code",
   "execution_count": 8,
   "metadata": {},
   "outputs": [
    {
     "name": "stdout",
     "output_type": "stream",
     "text": [
      "Replacing 7974 nulls in column MonthlyIncome with mean value 6578.995732703832\n",
      "Replacing 1037 nulls in column NumberOfDependents with mean value 0.7732309462467796\n"
     ]
    }
   ],
   "source": [
    "pl.preprocess_data(df)"
   ]
  },
  {
   "cell_type": "markdown",
   "metadata": {},
   "source": [
    "### 4. Generate features\n",
    "Prepare features for the model by transforming appropriate continuous variables into discrete variables and transforming appropriate discrete variables into dummy variables.\n",
    "\n",
    "Here, we'll transform age into a discrete variable by creating age bins/categories. Age 21-31 will be \"Young Adult\", 32-64 will be \"Adult\", and 65-110 will be \"Senior\"."
   ]
  },
  {
   "cell_type": "code",
   "execution_count": 9,
   "metadata": {},
   "outputs": [
    {
     "data": {
      "text/plain": [
       "Adult          29197\n",
       "Senior          8041\n",
       "Young Adult     3778\n",
       "Name: age, dtype: int64"
      ]
     },
     "execution_count": 9,
     "metadata": {},
     "output_type": "execute_result"
    }
   ],
   "source": [
    "pl.make_discrete(df, \"age\", [21, 32, 65, 111], [\"Young Adult\", \"Adult\", \"Senior\"])\n",
    "df[\"age\"].value_counts()"
   ]
  },
  {
   "cell_type": "markdown",
   "metadata": {},
   "source": [
    "Make dummy variable from the column `NumberOfTimes90DaysLate` with `make_dummy()`. A value of 0 will represent an individual who has never been 90 days late and a value of 1 will represent an indivdual who has been 90 days late at least once."
   ]
  },
  {
   "cell_type": "code",
   "execution_count": 10,
   "metadata": {},
   "outputs": [
    {
     "name": "stderr",
     "output_type": "stream",
     "text": [
      "/home/student/machine-learning/ml-pipeline/pipeline_library.py:141: SettingWithCopyWarning: \n",
      "A value is trying to be set on a copy of a slice from a DataFrame\n",
      "\n",
      "See the caveats in the documentation: http://pandas.pydata.org/pandas-docs/stable/indexing.html#indexing-view-versus-copy\n",
      "  df[new_col][df[col] >= 1] = 1\n"
     ]
    },
    {
     "data": {
      "text/plain": [
       "0    37586\n",
       "1     3430\n",
       "Name: NumberOfTimes90DaysLate_dummy, dtype: int64"
      ]
     },
     "execution_count": 10,
     "metadata": {},
     "output_type": "execute_result"
    }
   ],
   "source": [
    "pl.make_dummy(df, \"NumberOfTimes90DaysLate\")\n",
    "df[\"NumberOfTimes90DaysLate_dummy\"].value_counts()"
   ]
  },
  {
   "cell_type": "markdown",
   "metadata": {},
   "source": [
    "### 5. Build decision tree classifier\n",
    "Now we will define the columns we want to use as features, split the data, then use the training X and y data to fit the decision tree."
   ]
  },
  {
   "cell_type": "code",
   "execution_count": 11,
   "metadata": {},
   "outputs": [
    {
     "data": {
      "text/plain": [
       "sklearn.tree.tree.DecisionTreeClassifier"
      ]
     },
     "execution_count": 11,
     "metadata": {},
     "output_type": "execute_result"
    }
   ],
   "source": [
    "selected_features = [\n",
    "    \"RevolvingUtilizationOfUnsecuredLines\",\n",
    "    #\"age\",\n",
    "    \"zipcode\",\n",
    "    \"NumberOfTime30-59DaysPastDueNotWorse\",\n",
    "    \"DebtRatio\",\n",
    "    \"MonthlyIncome\",\n",
    "    \"NumberOfOpenCreditLinesAndLoans\",\n",
    "    \"NumberOfTimes90DaysLate_dummy\",\n",
    "    \"NumberRealEstateLoansOrLines\",\n",
    "    \"NumberOfTime60-89DaysPastDueNotWorse\",\n",
    "    \"NumberOfDependents\"\n",
    "]\n",
    "\n",
    "test_size = 0.3\n",
    "x_train, x_test, y_train, y_test = pl.split_data(df, selected_features, label, test_size)\n",
    "dec_tree = pl.fit_decision_tree(x_train, y_train)\n",
    "type(dec_tree)"
   ]
  },
  {
   "cell_type": "markdown",
   "metadata": {},
   "source": [
    "### 6. Evaluate classifier\n",
    "Using the trained decision tree model and our X and y data, we will evaluate the accuracy of the model."
   ]
  },
  {
   "cell_type": "code",
   "execution_count": 12,
   "metadata": {
    "scrolled": true
   },
   "outputs": [
    {
     "data": {
      "text/plain": [
       "0.8132466477041853"
      ]
     },
     "execution_count": 12,
     "metadata": {},
     "output_type": "execute_result"
    }
   ],
   "source": [
    "threshold = 0.4\n",
    "pl.evaluate_model(dec_tree, x_test, y_test, threshold)"
   ]
  }
 ],
 "metadata": {
  "kernelspec": {
   "display_name": "Python 3",
   "language": "python",
   "name": "python3"
  },
  "language_info": {
   "codemirror_mode": {
    "name": "ipython",
    "version": 3
   },
   "file_extension": ".py",
   "mimetype": "text/x-python",
   "name": "python",
   "nbconvert_exporter": "python",
   "pygments_lexer": "ipython3",
   "version": "3.5.2"
  }
 },
 "nbformat": 4,
 "nbformat_minor": 2
}
