{
 "cells": [
  {
   "cell_type": "markdown",
   "metadata": {},
   "source": [
    "# Improved Machine Learning Pipeline Applied to DonorsChoose Data\n",
    "## CAPP 30254 Homework 3\n",
    "\n",
    "The module `pipeline_library` contains updated functions that allow us to apply the machine learning pipeline. The general steps of the pipeline are as follows:\n",
    "\n",
    "1. Load the data\n",
    "2. Explore the data\n",
    "3. Preprocess and clean the data\n",
    "4. Generate features for the ML model\n",
    "5. Build a machine learning model\n",
    "6. Evaluate the model\n",
    "\n",
    "Here I will use the pipeline to analyze data from the K-12 school charity site DonorsChoose to predict which classroom projects will receive full funding within 60 days of being posted. The data is a modified version of data from https://www.kaggle.com/c/kdd-cup-2014-predicting-excitement-at-donors-choose/data.\n",
    "\n",
    "## Load and explore the data\n",
    "I'll start by loading and exploring the data."
   ]
  },
  {
   "cell_type": "code",
   "execution_count": 1,
   "metadata": {},
   "outputs": [
    {
     "name": "stderr",
     "output_type": "stream",
     "text": [
      "/usr/local/lib/python3.5/dist-packages/sklearn/ensemble/weight_boosting.py:29: DeprecationWarning: numpy.core.umath_tests is an internal NumPy module and should not be imported. It will be removed in a future NumPy release.\n",
      "  from numpy.core.umath_tests import inner1d\n"
     ]
    }
   ],
   "source": [
    "import matplotlib.pyplot as plt\n",
    "import numpy as np\n",
    "import pandas as pd\n",
    "%matplotlib inline\n",
    "\n",
    "import pipeline_library as pl"
   ]
  },
  {
   "cell_type": "code",
   "execution_count": 2,
   "metadata": {},
   "outputs": [
    {
     "data": {
      "text/html": [
       "<div>\n",
       "<style scoped>\n",
       "    .dataframe tbody tr th:only-of-type {\n",
       "        vertical-align: middle;\n",
       "    }\n",
       "\n",
       "    .dataframe tbody tr th {\n",
       "        vertical-align: top;\n",
       "    }\n",
       "\n",
       "    .dataframe thead th {\n",
       "        text-align: right;\n",
       "    }\n",
       "</style>\n",
       "<table border=\"1\" class=\"dataframe\">\n",
       "  <thead>\n",
       "    <tr style=\"text-align: right;\">\n",
       "      <th></th>\n",
       "      <th>projectid</th>\n",
       "      <th>teacher_acctid</th>\n",
       "      <th>schoolid</th>\n",
       "      <th>school_ncesid</th>\n",
       "      <th>school_latitude</th>\n",
       "      <th>school_longitude</th>\n",
       "      <th>school_city</th>\n",
       "      <th>school_state</th>\n",
       "      <th>school_metro</th>\n",
       "      <th>school_district</th>\n",
       "      <th>...</th>\n",
       "      <th>secondary_focus_subject</th>\n",
       "      <th>secondary_focus_area</th>\n",
       "      <th>resource_type</th>\n",
       "      <th>poverty_level</th>\n",
       "      <th>grade_level</th>\n",
       "      <th>total_price_including_optional_support</th>\n",
       "      <th>students_reached</th>\n",
       "      <th>eligible_double_your_impact_match</th>\n",
       "      <th>date_posted</th>\n",
       "      <th>datefullyfunded</th>\n",
       "    </tr>\n",
       "  </thead>\n",
       "  <tbody>\n",
       "    <tr>\n",
       "      <th>0</th>\n",
       "      <td>00001ccc0e81598c4bd86bacb94d7acb</td>\n",
       "      <td>96963218e74e10c3764a5cfb153e6fea</td>\n",
       "      <td>9f3f9f2c2da7edda5648ccd10554ed8c</td>\n",
       "      <td>1.709930e+11</td>\n",
       "      <td>41.807654</td>\n",
       "      <td>-87.673257</td>\n",
       "      <td>Chicago</td>\n",
       "      <td>IL</td>\n",
       "      <td>urban</td>\n",
       "      <td>Pershing Elem Network</td>\n",
       "      <td>...</td>\n",
       "      <td>Visual Arts</td>\n",
       "      <td>Music &amp; The Arts</td>\n",
       "      <td>Supplies</td>\n",
       "      <td>highest poverty</td>\n",
       "      <td>Grades PreK-2</td>\n",
       "      <td>1498.61</td>\n",
       "      <td>31.0</td>\n",
       "      <td>f</td>\n",
       "      <td>4/14/13</td>\n",
       "      <td>5/2/13</td>\n",
       "    </tr>\n",
       "    <tr>\n",
       "      <th>1</th>\n",
       "      <td>0000fa3aa8f6649abab23615b546016d</td>\n",
       "      <td>2a578595fe351e7fce057e048c409b18</td>\n",
       "      <td>3432ed3d4466fac2f2ead83ab354e333</td>\n",
       "      <td>6.409801e+10</td>\n",
       "      <td>34.296596</td>\n",
       "      <td>-119.296596</td>\n",
       "      <td>Ventura</td>\n",
       "      <td>CA</td>\n",
       "      <td>urban</td>\n",
       "      <td>Ventura Unif School District</td>\n",
       "      <td>...</td>\n",
       "      <td>Literature &amp; Writing</td>\n",
       "      <td>Literacy &amp; Language</td>\n",
       "      <td>Books</td>\n",
       "      <td>highest poverty</td>\n",
       "      <td>Grades 3-5</td>\n",
       "      <td>282.47</td>\n",
       "      <td>28.0</td>\n",
       "      <td>t</td>\n",
       "      <td>4/7/12</td>\n",
       "      <td>4/18/12</td>\n",
       "    </tr>\n",
       "    <tr>\n",
       "      <th>2</th>\n",
       "      <td>000134f07d4b30140d63262c871748ff</td>\n",
       "      <td>26bd60377bdbffb53a644a16c5308e82</td>\n",
       "      <td>dc8dcb501c3b2bb0b10e9c6ee2cd8afd</td>\n",
       "      <td>6.227100e+10</td>\n",
       "      <td>34.078625</td>\n",
       "      <td>-118.257834</td>\n",
       "      <td>Los Angeles</td>\n",
       "      <td>CA</td>\n",
       "      <td>urban</td>\n",
       "      <td>Los Angeles Unif Sch Dist</td>\n",
       "      <td>...</td>\n",
       "      <td>Social Sciences</td>\n",
       "      <td>History &amp; Civics</td>\n",
       "      <td>Technology</td>\n",
       "      <td>high poverty</td>\n",
       "      <td>Grades 3-5</td>\n",
       "      <td>1012.38</td>\n",
       "      <td>56.0</td>\n",
       "      <td>f</td>\n",
       "      <td>1/30/12</td>\n",
       "      <td>4/15/12</td>\n",
       "    </tr>\n",
       "    <tr>\n",
       "      <th>3</th>\n",
       "      <td>0001f2d0b3827bba67cdbeaa248b832d</td>\n",
       "      <td>15d900805d9d716c051c671827109f45</td>\n",
       "      <td>8bea7e8c6e4279fca6276128db89292e</td>\n",
       "      <td>3.600090e+11</td>\n",
       "      <td>40.687286</td>\n",
       "      <td>-73.988217</td>\n",
       "      <td>Brooklyn</td>\n",
       "      <td>NY</td>\n",
       "      <td>urban</td>\n",
       "      <td>New York City Dept Of Ed</td>\n",
       "      <td>...</td>\n",
       "      <td>NaN</td>\n",
       "      <td>NaN</td>\n",
       "      <td>Books</td>\n",
       "      <td>high poverty</td>\n",
       "      <td>Grades PreK-2</td>\n",
       "      <td>175.33</td>\n",
       "      <td>23.0</td>\n",
       "      <td>f</td>\n",
       "      <td>10/11/12</td>\n",
       "      <td>12/5/12</td>\n",
       "    </tr>\n",
       "    <tr>\n",
       "      <th>4</th>\n",
       "      <td>0004536db996ba697ca72c9e058bfe69</td>\n",
       "      <td>400f8b82bb0143f6a40b217a517fe311</td>\n",
       "      <td>fbdefab6fe41e12c55886c610c110753</td>\n",
       "      <td>3.606870e+11</td>\n",
       "      <td>40.793018</td>\n",
       "      <td>-73.205635</td>\n",
       "      <td>Central Islip</td>\n",
       "      <td>NY</td>\n",
       "      <td>suburban</td>\n",
       "      <td>Central Islip Union Free SD</td>\n",
       "      <td>...</td>\n",
       "      <td>Literature &amp; Writing</td>\n",
       "      <td>Literacy &amp; Language</td>\n",
       "      <td>Technology</td>\n",
       "      <td>high poverty</td>\n",
       "      <td>Grades PreK-2</td>\n",
       "      <td>3591.11</td>\n",
       "      <td>150.0</td>\n",
       "      <td>f</td>\n",
       "      <td>1/8/13</td>\n",
       "      <td>3/25/13</td>\n",
       "    </tr>\n",
       "  </tbody>\n",
       "</table>\n",
       "<p>5 rows × 26 columns</p>\n",
       "</div>"
      ],
      "text/plain": [
       "                          projectid                    teacher_acctid  \\\n",
       "0  00001ccc0e81598c4bd86bacb94d7acb  96963218e74e10c3764a5cfb153e6fea   \n",
       "1  0000fa3aa8f6649abab23615b546016d  2a578595fe351e7fce057e048c409b18   \n",
       "2  000134f07d4b30140d63262c871748ff  26bd60377bdbffb53a644a16c5308e82   \n",
       "3  0001f2d0b3827bba67cdbeaa248b832d  15d900805d9d716c051c671827109f45   \n",
       "4  0004536db996ba697ca72c9e058bfe69  400f8b82bb0143f6a40b217a517fe311   \n",
       "\n",
       "                           schoolid  school_ncesid  school_latitude  \\\n",
       "0  9f3f9f2c2da7edda5648ccd10554ed8c   1.709930e+11        41.807654   \n",
       "1  3432ed3d4466fac2f2ead83ab354e333   6.409801e+10        34.296596   \n",
       "2  dc8dcb501c3b2bb0b10e9c6ee2cd8afd   6.227100e+10        34.078625   \n",
       "3  8bea7e8c6e4279fca6276128db89292e   3.600090e+11        40.687286   \n",
       "4  fbdefab6fe41e12c55886c610c110753   3.606870e+11        40.793018   \n",
       "\n",
       "   school_longitude    school_city school_state school_metro  \\\n",
       "0        -87.673257        Chicago           IL        urban   \n",
       "1       -119.296596        Ventura           CA        urban   \n",
       "2       -118.257834    Los Angeles           CA        urban   \n",
       "3        -73.988217       Brooklyn           NY        urban   \n",
       "4        -73.205635  Central Islip           NY     suburban   \n",
       "\n",
       "                school_district       ...       secondary_focus_subject  \\\n",
       "0         Pershing Elem Network       ...                   Visual Arts   \n",
       "1  Ventura Unif School District       ...          Literature & Writing   \n",
       "2     Los Angeles Unif Sch Dist       ...               Social Sciences   \n",
       "3      New York City Dept Of Ed       ...                           NaN   \n",
       "4   Central Islip Union Free SD       ...          Literature & Writing   \n",
       "\n",
       "  secondary_focus_area resource_type    poverty_level    grade_level  \\\n",
       "0     Music & The Arts      Supplies  highest poverty  Grades PreK-2   \n",
       "1  Literacy & Language         Books  highest poverty     Grades 3-5   \n",
       "2     History & Civics    Technology     high poverty     Grades 3-5   \n",
       "3                  NaN         Books     high poverty  Grades PreK-2   \n",
       "4  Literacy & Language    Technology     high poverty  Grades PreK-2   \n",
       "\n",
       "  total_price_including_optional_support students_reached  \\\n",
       "0                                1498.61             31.0   \n",
       "1                                 282.47             28.0   \n",
       "2                                1012.38             56.0   \n",
       "3                                 175.33             23.0   \n",
       "4                                3591.11            150.0   \n",
       "\n",
       "  eligible_double_your_impact_match date_posted datefullyfunded  \n",
       "0                                 f     4/14/13          5/2/13  \n",
       "1                                 t      4/7/12         4/18/12  \n",
       "2                                 f     1/30/12         4/15/12  \n",
       "3                                 f    10/11/12         12/5/12  \n",
       "4                                 f      1/8/13         3/25/13  \n",
       "\n",
       "[5 rows x 26 columns]"
      ]
     },
     "execution_count": 2,
     "metadata": {},
     "output_type": "execute_result"
    }
   ],
   "source": [
    "proj_df = pl.load_csv_data(\"data/projects_2012_2013.csv\")\n",
    "proj_df.head()"
   ]
  },
  {
   "cell_type": "markdown",
   "metadata": {},
   "source": [
    "Check the columns' data types."
   ]
  },
  {
   "cell_type": "code",
   "execution_count": 3,
   "metadata": {},
   "outputs": [
    {
     "data": {
      "text/plain": [
       "projectid                                  object\n",
       "teacher_acctid                             object\n",
       "schoolid                                   object\n",
       "school_ncesid                             float64\n",
       "school_latitude                           float64\n",
       "school_longitude                          float64\n",
       "school_city                                object\n",
       "school_state                               object\n",
       "school_metro                               object\n",
       "school_district                            object\n",
       "school_county                              object\n",
       "school_charter                             object\n",
       "school_magnet                              object\n",
       "teacher_prefix                             object\n",
       "primary_focus_subject                      object\n",
       "primary_focus_area                         object\n",
       "secondary_focus_subject                    object\n",
       "secondary_focus_area                       object\n",
       "resource_type                              object\n",
       "poverty_level                              object\n",
       "grade_level                                object\n",
       "total_price_including_optional_support    float64\n",
       "students_reached                          float64\n",
       "eligible_double_your_impact_match          object\n",
       "date_posted                                object\n",
       "datefullyfunded                            object\n",
       "dtype: object"
      ]
     },
     "execution_count": 3,
     "metadata": {},
     "output_type": "execute_result"
    }
   ],
   "source": [
    "proj_df.dtypes"
   ]
  },
  {
   "cell_type": "markdown",
   "metadata": {},
   "source": [
    "Check frequency and location of null values."
   ]
  },
  {
   "cell_type": "code",
   "execution_count": 4,
   "metadata": {},
   "outputs": [
    {
     "data": {
      "text/plain": [
       "projectid                                     0\n",
       "teacher_acctid                                0\n",
       "schoolid                                      0\n",
       "school_ncesid                              9233\n",
       "school_latitude                               0\n",
       "school_longitude                              0\n",
       "school_city                                   0\n",
       "school_state                                  0\n",
       "school_metro                              15224\n",
       "school_district                             172\n",
       "school_county                                 0\n",
       "school_charter                                0\n",
       "school_magnet                                 0\n",
       "teacher_prefix                                0\n",
       "primary_focus_subject                        15\n",
       "primary_focus_area                           15\n",
       "secondary_focus_subject                   40556\n",
       "secondary_focus_area                      40556\n",
       "resource_type                                17\n",
       "poverty_level                                 0\n",
       "grade_level                                   3\n",
       "total_price_including_optional_support        0\n",
       "students_reached                             59\n",
       "eligible_double_your_impact_match             0\n",
       "date_posted                                   0\n",
       "datefullyfunded                               0\n",
       "dtype: int64"
      ]
     },
     "execution_count": 4,
     "metadata": {},
     "output_type": "execute_result"
    }
   ],
   "source": [
    "proj_df.isnull().sum()"
   ]
  },
  {
   "cell_type": "markdown",
   "metadata": {},
   "source": [
    "## Preprocess data and prepare features and label\n",
    "Next I will preprocess and clean the data, prepare selected columns to be features, and prepare the label for the machine learning models.\n",
    "\n",
    "The following are the columns in the dataset and the cleaning/transformation they will require. The features and labels need to be numeric variables (requirement of sci-kit learn) that have meaning, so some of the columns in our dataset will be irrelevant and/or will need to be transformed.\n",
    "- 'projectid' - won't be a feature (IDs don't carry any meaning for our analysis)\n",
    "- 'teacher_acctid' - won't be a feature\n",
    "- 'schoolid' - won't be a feature\n",
    "- 'school_ncesid' - won't be a feature\n",
    "- 'school_latitude' - ok (numeric)\n",
    "- 'school_longitude' - ok (numeric)\n",
    "- 'school_city' - not numeric, too many different values, won't be a feature\n",
    "- 'school_state' - not numeric, won't be a feature - could group by region of the US\n",
    "- 'school_metro' - need to handle nulls, transform to dummy\n",
    "- 'school_district' - not numeric, won't be a feature\n",
    "- 'school_county' - not numeric, won't be a feature\n",
    "- 'school_charter' - transform to dummy\n",
    "- 'school_magnet' - transform to dummy\n",
    "- 'teacher_prefix' - transform to dummy\n",
    "- 'primary_focus_subject' - not numeric, too many different values, won't be a feature\n",
    "- 'primary_focus_area' - 7 values - could become a dummy\n",
    "- 'secondary_focus_subject' - not numeric, too many different values, won't be a feature\n",
    "- 'secondary_focus_area' - 7 values - could become a dummy\n",
    "- 'resource_type' - 6 values - could become a dummy\n",
    "- 'poverty_level' - make numeric\n",
    "- 'grade_level' - need to handle nulls, make numeric\n",
    "- 'total_price_including_optional_support' - ok (numeric)\n",
    "- 'students_reached' - need to handle nulls\n",
    "- 'eligible_double_your_impact_match' - need to handle nulls, transform to dummy\n",
    "- 'date_posted' - use to calculate label, month could become a feature\n",
    "- 'datefullyfunded' - use to calculate label"
   ]
  },
  {
   "cell_type": "markdown",
   "metadata": {},
   "source": [
    "### Handle null values and dummy transformations for features\n",
    "The columns `school_metro`, `grade_level`, and `students_reached` contain null values. We will fill these nulls with the mode value for the categorical variables and with the median value for the numerical variable.\n",
    "\n",
    "`teacher_prefix` takes on values \"Mrs.\", \"Ms.\", \"Mr.\", and \"Dr.\". I want to convert this to a gender dummy variable `teacher_female`, so since there are only 2 rows with \"Dr.\" (therefore with gender unknown) and there are many more females (Mrs. and Ms.) than males (Mr.), we'll treat Dr. as an NA that will take on the mode value, female.\n",
    "\n",
    "The columns `school_charter`, `school_magnet`, and `eligible_double_your_impact_match` currently have \"t\" and \"f\" for boolean values, so we will transform them in place - 0 for False and 1 for True.\n",
    "\n",
    "We will generate dummy variables from `school_metro`, `poverty_level` and `grade_level`."
   ]
  },
  {
   "cell_type": "code",
   "execution_count": 5,
   "metadata": {},
   "outputs": [
    {
     "data": {
      "text/plain": [
       "urban       62267\n",
       "suburban    33084\n",
       "NaN         15224\n",
       "rural       14401\n",
       "Name: school_metro, dtype: int64"
      ]
     },
     "execution_count": 5,
     "metadata": {},
     "output_type": "execute_result"
    }
   ],
   "source": [
    "proj_df[\"school_metro\"].value_counts(dropna=False)"
   ]
  },
  {
   "cell_type": "code",
   "execution_count": 6,
   "metadata": {},
   "outputs": [
    {
     "data": {
      "text/plain": [
       "Grades PreK-2    47730\n",
       "Grades 3-5       39242\n",
       "Grades 6-8       21479\n",
       "Grades 9-12      16522\n",
       "NaN                  3\n",
       "Name: grade_level, dtype: int64"
      ]
     },
     "execution_count": 6,
     "metadata": {},
     "output_type": "execute_result"
    }
   ],
   "source": [
    "proj_df[\"grade_level\"].value_counts(dropna=False)"
   ]
  },
  {
   "cell_type": "code",
   "execution_count": 7,
   "metadata": {},
   "outputs": [
    {
     "name": "stdout",
     "output_type": "stream",
     "text": [
      "Replacing 15224 nulls in column school_metro with mode value urban\n",
      "Replacing 3 nulls in column grade_level with mode value Grades PreK-2\n",
      "Replacing 59 nulls in column students_reached with median value 30.0\n"
     ]
    }
   ],
   "source": [
    "pl.fill_na_with(proj_df, \"mode\", cols=[\"school_metro\", \"grade_level\"])\n",
    "pl.fill_na_with(proj_df, \"median\", cols=[\"students_reached\"])"
   ]
  },
  {
   "cell_type": "code",
   "execution_count": 8,
   "metadata": {},
   "outputs": [
    {
     "data": {
      "text/plain": [
       "Mrs.    60190\n",
       "Ms.     48511\n",
       "Mr.     16273\n",
       "Dr.         2\n",
       "Name: teacher_prefix, dtype: int64"
      ]
     },
     "execution_count": 8,
     "metadata": {},
     "output_type": "execute_result"
    }
   ],
   "source": [
    "proj_df[\"teacher_prefix\"].value_counts(dropna=False)"
   ]
  },
  {
   "cell_type": "code",
   "execution_count": 9,
   "metadata": {},
   "outputs": [],
   "source": [
    "pl.make_dummy_from_categorical(proj_df, \"teacher_prefix\", [\"Mrs.\", \"Ms.\", \"Dr.\"], \"teacher_female\")"
   ]
  },
  {
   "cell_type": "code",
   "execution_count": 10,
   "metadata": {},
   "outputs": [
    {
     "data": {
      "text/plain": [
       "f    113340\n",
       "t     11636\n",
       "Name: school_charter, dtype: int64"
      ]
     },
     "execution_count": 10,
     "metadata": {},
     "output_type": "execute_result"
    }
   ],
   "source": [
    "proj_df[\"school_charter\"].value_counts(dropna=False)"
   ]
  },
  {
   "cell_type": "code",
   "execution_count": 11,
   "metadata": {},
   "outputs": [],
   "source": [
    "pl.rename_values(proj_df, \"school_charter\", {\"t\": 1, \"f\": 0})\n",
    "pl.rename_values(proj_df, \"school_magnet\", {\"t\": 1, \"f\": 0})\n",
    "pl.rename_values(proj_df, \"eligible_double_your_impact_match\", {\"t\": 1, \"f\": 0})"
   ]
  },
  {
   "cell_type": "code",
   "execution_count": 12,
   "metadata": {},
   "outputs": [
    {
     "data": {
      "text/plain": [
       "0    113340\n",
       "1     11636\n",
       "Name: school_charter, dtype: int64"
      ]
     },
     "execution_count": 12,
     "metadata": {},
     "output_type": "execute_result"
    }
   ],
   "source": [
    "proj_df[\"school_charter\"].value_counts(dropna=False)"
   ]
  },
  {
   "cell_type": "code",
   "execution_count": 13,
   "metadata": {},
   "outputs": [],
   "source": [
    "proj_df = pd.concat([proj_df, pd.get_dummies(proj_df[\"school_metro\"])], axis=1)"
   ]
  },
  {
   "cell_type": "code",
   "execution_count": 14,
   "metadata": {},
   "outputs": [],
   "source": [
    "proj_df = pd.concat([proj_df, pd.get_dummies(proj_df[\"poverty_level\"])], axis=1)"
   ]
  },
  {
   "cell_type": "code",
   "execution_count": 15,
   "metadata": {},
   "outputs": [],
   "source": [
    "proj_df = pd.concat([proj_df, pd.get_dummies(proj_df[\"grade_level\"])], axis=1)"
   ]
  },
  {
   "cell_type": "markdown",
   "metadata": {},
   "source": [
    "### Convert to datetime and generate label\n",
    "The label for the analysis I'm doing is whether or not a project was fully funded within 60 days of posting. The original data gave us the columns `date_posted` and `datefullyfunded` so I now need to prepare the label, which I will call `fundedin60days`. I'll convert the original columns to the datetime type, find the difference between the two columns (intermediate variable `daystofunding`), and then produce the dummy column, which has a value of 0 if more than 60 days passed before full funding, or a 1 if it was 60 days or less."
   ]
  },
  {
   "cell_type": "code",
   "execution_count": 16,
   "metadata": {},
   "outputs": [],
   "source": [
    "pl.cols_to_datetime(proj_df, [\"date_posted\", \"datefullyfunded\"])\n",
    "proj_df[\"daystofunding\"] = proj_df[\"datefullyfunded\"] - proj_df[\"date_posted\"]\n",
    "cutoff = pd.Timedelta(\"60 days\")"
   ]
  },
  {
   "cell_type": "code",
   "execution_count": 17,
   "metadata": {},
   "outputs": [],
   "source": [
    "pl.make_dummy_from_continuous(proj_df, \"daystofunding\", cutoff, gt_cutoff=False, new_col=\"fundedin60days\")"
   ]
  },
  {
   "cell_type": "code",
   "execution_count": 18,
   "metadata": {},
   "outputs": [
    {
     "data": {
      "text/html": [
       "<div>\n",
       "<style scoped>\n",
       "    .dataframe tbody tr th:only-of-type {\n",
       "        vertical-align: middle;\n",
       "    }\n",
       "\n",
       "    .dataframe tbody tr th {\n",
       "        vertical-align: top;\n",
       "    }\n",
       "\n",
       "    .dataframe thead th {\n",
       "        text-align: right;\n",
       "    }\n",
       "</style>\n",
       "<table border=\"1\" class=\"dataframe\">\n",
       "  <thead>\n",
       "    <tr style=\"text-align: right;\">\n",
       "      <th></th>\n",
       "      <th>date_posted</th>\n",
       "      <th>datefullyfunded</th>\n",
       "      <th>daystofunding</th>\n",
       "      <th>fundedin60days</th>\n",
       "    </tr>\n",
       "  </thead>\n",
       "  <tbody>\n",
       "    <tr>\n",
       "      <th>0</th>\n",
       "      <td>2013-04-14</td>\n",
       "      <td>2013-05-02</td>\n",
       "      <td>18 days</td>\n",
       "      <td>1</td>\n",
       "    </tr>\n",
       "    <tr>\n",
       "      <th>1</th>\n",
       "      <td>2012-04-07</td>\n",
       "      <td>2012-04-18</td>\n",
       "      <td>11 days</td>\n",
       "      <td>1</td>\n",
       "    </tr>\n",
       "    <tr>\n",
       "      <th>2</th>\n",
       "      <td>2012-01-30</td>\n",
       "      <td>2012-04-15</td>\n",
       "      <td>76 days</td>\n",
       "      <td>0</td>\n",
       "    </tr>\n",
       "    <tr>\n",
       "      <th>3</th>\n",
       "      <td>2012-10-11</td>\n",
       "      <td>2012-12-05</td>\n",
       "      <td>55 days</td>\n",
       "      <td>1</td>\n",
       "    </tr>\n",
       "    <tr>\n",
       "      <th>4</th>\n",
       "      <td>2013-01-08</td>\n",
       "      <td>2013-03-25</td>\n",
       "      <td>76 days</td>\n",
       "      <td>0</td>\n",
       "    </tr>\n",
       "  </tbody>\n",
       "</table>\n",
       "</div>"
      ],
      "text/plain": [
       "  date_posted datefullyfunded daystofunding  fundedin60days\n",
       "0  2013-04-14      2013-05-02       18 days               1\n",
       "1  2012-04-07      2012-04-18       11 days               1\n",
       "2  2012-01-30      2012-04-15       76 days               0\n",
       "3  2012-10-11      2012-12-05       55 days               1\n",
       "4  2013-01-08      2013-03-25       76 days               0"
      ]
     },
     "execution_count": 18,
     "metadata": {},
     "output_type": "execute_result"
    }
   ],
   "source": [
    "proj_df[[\"date_posted\", \"datefullyfunded\", \"daystofunding\", \"fundedin60days\"]].head()"
   ]
  },
  {
   "cell_type": "code",
   "execution_count": 19,
   "metadata": {},
   "outputs": [],
   "source": [
    "label = \"fundedin60days\""
   ]
  },
  {
   "cell_type": "markdown",
   "metadata": {},
   "source": [
    "Now that I have generated the features, I define the columns I want to use as features before moving on to applying different models. "
   ]
  },
  {
   "cell_type": "code",
   "execution_count": 20,
   "metadata": {},
   "outputs": [],
   "source": [
    "selected_features = [\n",
    "    \"school_latitude\",\n",
    "    \"school_longitude\",\n",
    "    \"school_charter\",\n",
    "    \"school_magnet\",\n",
    "    \"total_price_including_optional_support\",\n",
    "    \"students_reached\",\n",
    "    \"eligible_double_your_impact_match\",\n",
    "    \"teacher_female\",\n",
    "    \"rural\",\n",
    "    \"suburban\",\n",
    "    \"urban\",\n",
    "    \"highest poverty\",\n",
    "    \"high poverty\",\n",
    "    \"moderate poverty\",\n",
    "    \"low poverty\",\n",
    "    \"Grades PreK-2\",\n",
    "    \"Grades 3-5\",\n",
    "    \"Grades 6-8\",\n",
    "    \"Grades 9-12\"\n",
    "]"
   ]
  },
  {
   "cell_type": "markdown",
   "metadata": {},
   "source": [
    "## Building and Evaluating Models\n",
    "Now that the features and label have been prepared, I will apply several different machine learning models to the DonorsChoose data and evaluate the results.\n",
    "\n",
    "I start by splitting the data into training and test sets, with `test_size` as an adjustable parameter (proportion of observations to use in the test set). Then I will use the training X (features) and y (label) data to fit the various models below."
   ]
  },
  {
   "cell_type": "code",
   "execution_count": 21,
   "metadata": {},
   "outputs": [],
   "source": [
    "test_size = 0.3\n",
    "x_train, x_test, y_train, y_test = pl.split_data(proj_df, selected_features, label, test_size)"
   ]
  },
  {
   "cell_type": "markdown",
   "metadata": {},
   "source": [
    "### Decision Tree\n",
    "Now I will fit the decision tree and evaluate the results.\n",
    "\n",
    "For a classification model, the output of `predict_proba()` is an N by 2 matrix, where N is the number of rows in the test data, and 2 is the number of classes (possible values of the label). For each test data point, `predict_proba()` gives two values - the first is the probability that the data point belongs to class 0 and the second is the probability it belongs to class 1.\n",
    "\n",
    "In the case of the DonorsChoose data, class 0 represents the projects that won't get funded in 60 days and class 1 represents the projects that will.\n",
    "\n",
    "I will plot the probabilities of belonging to class 1 to see the distribution and decide on a threshold. This threshold signifies the probability cutoff at which we will count the data point as correct. For example, if we set the threshold at 0.5, then a row for which the probability that the project was funded is greater than 0.5, we will count that row as having been funded. \n",
    "\n",
    "Then, when we pass this information to the accuracy function, which will compare the predictions to the y test set to calculate the accuracy of the model."
   ]
  },
  {
   "cell_type": "code",
   "execution_count": 22,
   "metadata": {},
   "outputs": [],
   "source": [
    "dec_tree = pl.fit_decision_tree(x_train, y_train)"
   ]
  },
  {
   "cell_type": "code",
   "execution_count": 23,
   "metadata": {},
   "outputs": [
    {
     "data": {
      "text/plain": [
       "(array([1.1181e+04, 0.0000e+00, 0.0000e+00, 0.0000e+00, 1.0000e+00,\n",
       "        5.1000e+01, 7.0000e+00, 2.0000e+00, 5.0000e+00, 2.6246e+04]),\n",
       " array([0. , 0.1, 0.2, 0.3, 0.4, 0.5, 0.6, 0.7, 0.8, 0.9, 1. ]),\n",
       " <a list of 10 Patch objects>)"
      ]
     },
     "execution_count": 23,
     "metadata": {},
     "output_type": "execute_result"
    },
    {
     "data": {
      "image/png": "[encoded data removed]",
      "text/plain": [
       "<Figure size 432x288 with 1 Axes>"
      ]
     },
     "metadata": {
      "needs_background": "light"
     },
     "output_type": "display_data"
    }
   ],
   "source": [
    "# use [:,1] to access the probability the data point belongs to class 1\n",
    "predicted_dt_scores = dec_tree.predict_proba(x_test)[:,1]\n",
    "plt.hist(predicted_dt_scores)"
   ]
  },
  {
   "cell_type": "code",
   "execution_count": 24,
   "metadata": {},
   "outputs": [
    {
     "name": "stdout",
     "output_type": "stream",
     "text": [
      "Model accuracy is 0.6420398474381884\n",
      "Model precision is 0.7544466403162056\n",
      "Model recall is 0.7404050576256014\n"
     ]
    }
   ],
   "source": [
    "dt_threshold = 0.4\n",
    "pl.evaluate_model(predicted_dt_scores, y_test, dt_threshold)"
   ]
  },
  {
   "cell_type": "markdown",
   "metadata": {},
   "source": [
    "### K-Nearest Neighbors"
   ]
  },
  {
   "cell_type": "code",
   "execution_count": 25,
   "metadata": {},
   "outputs": [],
   "source": [
    "n_neighbors = 10\n",
    "knn = pl.fit_knn_classifier(x_train, y_train, n_neighbors)"
   ]
  },
  {
   "cell_type": "code",
   "execution_count": 26,
   "metadata": {},
   "outputs": [
    {
     "data": {
      "text/plain": [
       "(array([7.0000e+00, 3.4000e+01, 1.1430e+03, 0.0000e+00, 2.0920e+03,\n",
       "        1.0224e+04, 7.3190e+03, 0.0000e+00, 7.3230e+03, 9.3510e+03]),\n",
       " array([0. , 0.1, 0.2, 0.3, 0.4, 0.5, 0.6, 0.7, 0.8, 0.9, 1. ]),\n",
       " <a list of 10 Patch objects>)"
      ]
     },
     "execution_count": 26,
     "metadata": {},
     "output_type": "execute_result"
    },
    {
     "data": {
      "image/png": "[encoded data removed]",
      "text/plain": [
       "<Figure size 432x288 with 1 Axes>"
      ]
     },
     "metadata": {
      "needs_background": "light"
     },
     "output_type": "display_data"
    }
   ],
   "source": [
    "predicted_knn_scores = knn.predict_proba(x_test)[:,1]\n",
    "plt.hist(predicted_knn_scores)"
   ]
  },
  {
   "cell_type": "code",
   "execution_count": 27,
   "metadata": {},
   "outputs": [
    {
     "name": "stdout",
     "output_type": "stream",
     "text": [
      "Model accuracy is 0.5454351478942736\n",
      "Model precision is 0.7929111191075927\n",
      "Model recall is 0.4931184961396442\n"
     ]
    }
   ],
   "source": [
    "knn_threshold = 0.75\n",
    "pl.evaluate_model(predicted_knn_scores, y_test, knn_threshold)"
   ]
  },
  {
   "cell_type": "markdown",
   "metadata": {},
   "source": [
    "### Logistic Regression"
   ]
  },
  {
   "cell_type": "code",
   "execution_count": 28,
   "metadata": {},
   "outputs": [
    {
     "data": {
      "text/plain": [
       "(array([   31.,    24.,    42.,    38.,    92.,   295.,  2684., 15818.,\n",
       "        16391.,  2078.]),\n",
       " array([5.67296580e-09, 8.96475699e-02, 1.79295134e-01, 2.68942698e-01,\n",
       "        3.58590263e-01, 4.48237827e-01, 5.37885391e-01, 6.27532956e-01,\n",
       "        7.17180520e-01, 8.06828084e-01, 8.96475648e-01]),\n",
       " <a list of 10 Patch objects>)"
      ]
     },
     "execution_count": 28,
     "metadata": {},
     "output_type": "execute_result"
    },
    {
     "data": {
      "image/png": "[encoded data removed]",
      "text/plain": [
       "<Figure size 432x288 with 1 Axes>"
      ]
     },
     "metadata": {
      "needs_background": "light"
     },
     "output_type": "display_data"
    }
   ],
   "source": [
    "lr = pl.fit_logistic_regression(x_train, y_train)\n",
    "predicted_lr_scores = lr.predict_proba(x_test)[:,1]\n",
    "plt.hist(predicted_lr_scores)"
   ]
  },
  {
   "cell_type": "code",
   "execution_count": 29,
   "metadata": {},
   "outputs": [
    {
     "name": "stdout",
     "output_type": "stream",
     "text": [
      "Model accuracy is 0.46699383884991863\n",
      "Model precision is 0.8144633809304468\n",
      "Model recall is 0.32975271343851403\n"
     ]
    }
   ],
   "source": [
    "lr_threshold = 0.75\n",
    "pl.evaluate_model(predicted_lr_scores, y_test, lr_threshold)"
   ]
  },
  {
   "cell_type": "markdown",
   "metadata": {},
   "source": [
    "### Support Vector Machines"
   ]
  },
  {
   "cell_type": "code",
   "execution_count": 30,
   "metadata": {},
   "outputs": [],
   "source": [
    "svm = pl.fit_svm(x_train, y_train)"
   ]
  },
  {
   "cell_type": "code",
   "execution_count": null,
   "metadata": {},
   "outputs": [],
   "source": []
  },
  {
   "cell_type": "markdown",
   "metadata": {},
   "source": [
    "### Bagging"
   ]
  },
  {
   "cell_type": "code",
   "execution_count": 31,
   "metadata": {},
   "outputs": [
    {
     "data": {
      "text/plain": [
       "(array([  147.,   458.,  2665.,    16.,  2571.,  8382.,  5340.,    52.,\n",
       "         6006., 11856.]),\n",
       " array([0. , 0.1, 0.2, 0.3, 0.4, 0.5, 0.6, 0.7, 0.8, 0.9, 1. ]),\n",
       " <a list of 10 Patch objects>)"
      ]
     },
     "execution_count": 31,
     "metadata": {},
     "output_type": "execute_result"
    },
    {
     "data": {
      "image/png": "[encoded data removed]",
      "text/plain": [
       "<Figure size 432x288 with 1 Axes>"
      ]
     },
     "metadata": {
      "needs_background": "light"
     },
     "output_type": "display_data"
    }
   ],
   "source": [
    "bag = pl.fit_bagging_classifier(x_train, y_train)\n",
    "predicted_bag_scores = bag.predict_proba(x_test)[:,1]\n",
    "plt.hist(predicted_bag_scores)"
   ]
  },
  {
   "cell_type": "code",
   "execution_count": 32,
   "metadata": {},
   "outputs": [
    {
     "name": "stdout",
     "output_type": "stream",
     "text": [
      "Model accuracy is 0.6455338329821567\n",
      "Model precision is 0.7908367390836739\n",
      "Model recall is 0.6856514117339898\n"
     ]
    }
   ],
   "source": [
    "bag_threshold = 0.65\n",
    "pl.evaluate_model(predicted_bag_scores, y_test, bag_threshold)"
   ]
  },
  {
   "cell_type": "markdown",
   "metadata": {},
   "source": [
    "### Boosting"
   ]
  },
  {
   "cell_type": "code",
   "execution_count": 33,
   "metadata": {},
   "outputs": [
    {
     "data": {
      "text/plain": [
       "(array([  709.,  6570., 11365.,  9229.,  5241.,  2701.,  1323.,   301.,\n",
       "           37.,    17.]),\n",
       " array([0.49605992, 0.49887979, 0.50169965, 0.50451952, 0.50733938,\n",
       "        0.51015925, 0.51297911, 0.51579898, 0.51861884, 0.52143871,\n",
       "        0.52425857]),\n",
       " <a list of 10 Patch objects>)"
      ]
     },
     "execution_count": 33,
     "metadata": {},
     "output_type": "execute_result"
    },
    {
     "data": {
      "image/png": "[encoded data removed]",
      "text/plain": [
       "<Figure size 432x288 with 1 Axes>"
      ]
     },
     "metadata": {
      "needs_background": "light"
     },
     "output_type": "display_data"
    }
   ],
   "source": [
    "boost = pl.fit_boosting_classifier(x_train, y_train)\n",
    "predicted_boost_scores = boost.predict_proba(x_test)[:,1]\n",
    "plt.hist(predicted_boost_scores)"
   ]
  },
  {
   "cell_type": "code",
   "execution_count": 34,
   "metadata": {},
   "outputs": [
    {
     "name": "stdout",
     "output_type": "stream",
     "text": [
      "Model accuracy is 0.7127997226148881\n",
      "Model precision is 0.7359056553833485\n",
      "Model recall is 0.9333109544589907\n"
     ]
    }
   ],
   "source": [
    "boost_threshold = 0.5005\n",
    "pl.evaluate_model(predicted_boost_scores, y_test, boost_threshold)"
   ]
  },
  {
   "cell_type": "markdown",
   "metadata": {},
   "source": [
    "### Random Forest"
   ]
  },
  {
   "cell_type": "code",
   "execution_count": 35,
   "metadata": {},
   "outputs": [
    {
     "data": {
      "text/plain": [
       "(array([  148.,   406.,  2532.,    14.,  2399.,  8087.,  5423.,    41.,\n",
       "         6151., 12292.]),\n",
       " array([0. , 0.1, 0.2, 0.3, 0.4, 0.5, 0.6, 0.7, 0.8, 0.9, 1. ]),\n",
       " <a list of 10 Patch objects>)"
      ]
     },
     "execution_count": 35,
     "metadata": {},
     "output_type": "execute_result"
    },
    {
     "data": {
      "image/png": "[encoded data removed]",
      "text/plain": [
       "<Figure size 432x288 with 1 Axes>"
      ]
     },
     "metadata": {
      "needs_background": "light"
     },
     "output_type": "display_data"
    }
   ],
   "source": [
    "rf = pl.fit_rf_classifier(x_train, y_train)\n",
    "predicted_rf_scores = rf.predict_proba(x_test)[:,1]\n",
    "plt.hist(predicted_rf_scores)"
   ]
  },
  {
   "cell_type": "code",
   "execution_count": 36,
   "metadata": {},
   "outputs": [
    {
     "name": "stdout",
     "output_type": "stream",
     "text": [
      "Model accuracy is 0.6477475795481823\n",
      "Model precision is 0.7847216408539138\n",
      "Model recall is 0.6992279288351796\n"
     ]
    }
   ],
   "source": [
    "rf_threshold = 0.65\n",
    "pl.evaluate_model(predicted_rf_scores, y_test, rf_threshold)"
   ]
  }
 ],
 "metadata": {
  "kernelspec": {
   "display_name": "Python 3",
   "language": "python",
   "name": "python3"
  },
  "language_info": {
   "codemirror_mode": {
    "name": "ipython",
    "version": 3
   },
   "file_extension": ".py",
   "mimetype": "text/x-python",
   "name": "python",
   "nbconvert_exporter": "python",
   "pygments_lexer": "ipython3",
   "version": "3.5.2"
  }
 },
 "nbformat": 4,
 "nbformat_minor": 2
}
